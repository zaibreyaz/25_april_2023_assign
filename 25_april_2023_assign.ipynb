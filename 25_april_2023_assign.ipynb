{
 "cells": [
  {
   "cell_type": "code",
   "execution_count": null,
   "id": "1cbe74f0-ce05-45e9-b5c0-75bed39320d4",
   "metadata": {},
   "outputs": [],
   "source": [
    "\"\"\"Q1. What are Eigenvalues and Eigenvectors? How are they related to the Eigen-Decomposition approach? Explain with an example.\n",
    "\n",
    "    Ans:  Eigenvectors are non-zero vectors that only change by a scalar factor when a linear transformation is applied. \n",
    "         Eigenvalues are the corresponding scalar factors. In the eigen-decomposition approach, a matrix is decomposed into \n",
    "         eigenvectors and eigenvalues. For example, in PCA, the covariance matrix is decomposed into eigenvectors \n",
    "         (principal components) and eigenvalues (variance explained by each component).\n",
    "\"\"\""
   ]
  },
  {
   "cell_type": "code",
   "execution_count": null,
   "id": "16072fd0-c7b3-4c01-962a-4ae10be5bfd6",
   "metadata": {},
   "outputs": [],
   "source": [
    "\"\"\"Q2. What is eigen decomposition and what is its significance in linear algebra?\n",
    "\n",
    "    Ans: Eigen decomposition is a process in linear algebra where a matrix is decomposed into a set of eigenvectors and eigenvalues. \n",
    "         It is significant as it helps understand the behavior of linear transformations and enables diagonalization of matrices, \n",
    "         simplifying calculations and analysis in various applications.\n",
    "\"\"\""
   ]
  },
  {
   "cell_type": "code",
   "execution_count": null,
   "id": "b47c0f9d-cb4b-4752-b82f-e88d615cb2f3",
   "metadata": {},
   "outputs": [],
   "source": [
    "\"\"\"Q3.What are the conditions that must be satisfied for a square matrix to be diagonalizable using the Eigen-Decomposition approach? \n",
    "    Provide a brief proof to support your answer.\n",
    "\n",
    "    Ans: For a square matrix to be diagonalizable using eigen-decomposition, it must meet two conditions:\n",
    "            The matrix must have n linearly independent eigenvectors.\n",
    "            The eigenvectors must span the entire vector space.\n",
    "        Proof: If a matrix has n linearly independent eigenvectors, it can be expressed as a product of eigenvectors and a \n",
    "            diagonal matrix of eigenvalues. This is possible only if the eigenvectors span the entire vector space. Thus, \n",
    "            the matrix is diagonalizable.\n",
    "\"\"\""
   ]
  },
  {
   "cell_type": "code",
   "execution_count": null,
   "id": "bf1b1418-552b-4943-952d-e8f7b7f0530d",
   "metadata": {},
   "outputs": [],
   "source": [
    "\"\"\"Q4. What is the significance of the spectral theorem in the context of the Eigen-Decomposition approach? \n",
    "    How is it related to the diagonalizability of a matrix? Explain with an example.\n",
    "\n",
    "    Ans: The spectral theorem states that for a symmetric matrix, the eigenvalues are real, and the eigenvectors are orthogonal. \n",
    "         In the context of eigen-decomposition, the spectral theorem guarantees the diagonalizability of a symmetric matrix, \n",
    "         where the eigenvectors form an orthogonal basis. For example, a real symmetric matrix can be diagonalized using \n",
    "         eigenvalues and eigenvectors obtained through the eigen-decomposition approach.\n",
    "\"\"\""
   ]
  },
  {
   "cell_type": "code",
   "execution_count": null,
   "id": "4b44ab9f-0f98-4861-b06c-ea6db9850b67",
   "metadata": {},
   "outputs": [],
   "source": [
    "\"\"\"Q5. How do you find the eigenvalues of a matrix and what do they represent?\n",
    "\n",
    "    Ans: To find the eigenvalues of a matrix, you solve the characteristic equation det(A - λI) = 0, where A is the matrix, \n",
    "         λ is the eigenvalue, and I is the identity matrix. Eigenvalues represent the scalar factors by which the corresponding \n",
    "         eigenvectors are scaled when the matrix is applied as a linear transformation.\n",
    "\"\"\""
   ]
  },
  {
   "cell_type": "code",
   "execution_count": null,
   "id": "f6167413-88c6-4ff5-8241-0329224e837b",
   "metadata": {},
   "outputs": [],
   "source": [
    "\"\"\"Q6. What are eigenvectors and how are they related to eigenvalues?\n",
    "\n",
    "    Ans: Eigenvectors are non-zero vectors that only change by a scalar factor when a linear transformation is applied. \n",
    "         Eigenvalues are the corresponding scalar factors.\n",
    "\"\"\""
   ]
  },
  {
   "cell_type": "code",
   "execution_count": null,
   "id": "ec6d3056-ca98-4f92-ba5c-a0945b4bd45c",
   "metadata": {},
   "outputs": [],
   "source": [
    "\"\"\"Q7. Can you explain the geometric interpretation of eigenvectors and eigenvalues?\n",
    "\n",
    "    Ans: The geometric interpretation of eigenvectors and eigenvalues is that eigenvectors represent the directions along which a \n",
    "         linear transformation stretches or compresses the most, while eigenvalues determine the scale of that stretching or \n",
    "         compression along those directions.\n",
    "\"\"\""
   ]
  },
  {
   "cell_type": "code",
   "execution_count": null,
   "id": "bb653bc8-7afa-4408-abf7-ff02fdb3c86d",
   "metadata": {},
   "outputs": [],
   "source": [
    "\"\"\"Q8. What are some real-world applications of eigen decomposition?\n",
    "\n",
    "    Ans: Image compression: PCA-based eigen decomposition helps reduce dimensionality in image data.\n",
    "        Recommendation systems: Eigen decomposition aids in collaborative filtering for personalized recommendations.\n",
    "        Network analysis: Eigen decomposition of adjacency matrices helps identify influential nodes in networks.\n",
    "\n",
    "\"\"\""
   ]
  },
  {
   "cell_type": "code",
   "execution_count": null,
   "id": "a63bdbba-69ed-478b-949e-642972244bbe",
   "metadata": {},
   "outputs": [],
   "source": [
    "\"\"\"Q9. Can a matrix have more than one set of eigenvectors and eigenvalues?\n",
    "\n",
    "    Ans: Yes, a matrix can have multiple sets of eigenvectors and eigenvalues. Each set corresponds to different linear \n",
    "    transformations that the matrix can represent, capturing distinct behavior and properties associated with those transformations.\n",
    "\"\"\""
   ]
  },
  {
   "cell_type": "code",
   "execution_count": null,
   "id": "2e518f4a-f2ae-4a88-9e78-85528d316b74",
   "metadata": {},
   "outputs": [],
   "source": [
    "\"\"\"Q10. In what ways is the Eigen-Decomposition approach useful in data analysis and machine learning? Discuss at least three \n",
    "    specific applications or techniques that rely on Eigen-Decomposition.\n",
    "    \n",
    "    Ans: Principal Component Analysis (PCA): Eigen-Decomposition helps identify principal components, reducing dimensionality and \n",
    "                extracting important features.\n",
    "         Spectral Clustering: Eigen-Decomposition of affinity matrices helps uncover the underlying structure of data for clustering.\n",
    "         Matrix Factorization: Eigen-Decomposition aids in factorizing matrices for collaborative filtering, recommendation systems, \n",
    "                 and dimensionality reduction.\n",
    "\"\"\""
   ]
  }
 ],
 "metadata": {
  "kernelspec": {
   "display_name": "Python 3 (ipykernel)",
   "language": "python",
   "name": "python3"
  },
  "language_info": {
   "codemirror_mode": {
    "name": "ipython",
    "version": 3
   },
   "file_extension": ".py",
   "mimetype": "text/x-python",
   "name": "python",
   "nbconvert_exporter": "python",
   "pygments_lexer": "ipython3",
   "version": "3.10.8"
  }
 },
 "nbformat": 4,
 "nbformat_minor": 5
}
